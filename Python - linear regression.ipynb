{
 "cells": [
  {
   "cell_type": "markdown",
   "id": "a6b34366",
   "metadata": {
    "toc": true
   },
   "source": [
    "<h1>Table of Contents<span class=\"tocSkip\"></span></h1>\n",
    "<div class=\"toc\"><ul class=\"toc-item\"><li><span><a href=\"#multiple-linear-regression\" data-toc-modified-id=\"multiple-linear-regression-1\"><span class=\"toc-item-num\">1&nbsp;&nbsp;</span>multiple linear regression</a></span><ul class=\"toc-item\"><li><span><a href=\"#Problem-Statement\" data-toc-modified-id=\"Problem-Statement-1.1\"><span class=\"toc-item-num\">1.1&nbsp;&nbsp;</span>Problem Statement</a></span></li><li><span><a href=\"#construct-predict-function\" data-toc-modified-id=\"construct-predict-function-1.2\"><span class=\"toc-item-num\">1.2&nbsp;&nbsp;</span>construct predict function</a></span></li><li><span><a href=\"#Compute-cost-function-with-multiple-variables\" data-toc-modified-id=\"Compute-cost-function-with-multiple-variables-1.3\"><span class=\"toc-item-num\">1.3&nbsp;&nbsp;</span>Compute cost function with multiple variables</a></span></li><li><span><a href=\"#Gradient-descent-with-multiple-variables\" data-toc-modified-id=\"Gradient-descent-with-multiple-variables-1.4\"><span class=\"toc-item-num\">1.4&nbsp;&nbsp;</span>Gradient descent with multiple variables</a></span></li><li><span><a href=\"#feature-scaling\" data-toc-modified-id=\"feature-scaling-1.5\"><span class=\"toc-item-num\">1.5&nbsp;&nbsp;</span>feature scaling</a></span><ul class=\"toc-item\"><li><span><a href=\"#compare-between-X_norm-and-X_train\" data-toc-modified-id=\"compare-between-X_norm-and-X_train-1.5.1\"><span class=\"toc-item-num\">1.5.1&nbsp;&nbsp;</span>compare between X_norm and X_train</a></span><ul class=\"toc-item\"><li><span><a href=\"#X_train\" data-toc-modified-id=\"X_train-1.5.1.1\"><span class=\"toc-item-num\">1.5.1.1&nbsp;&nbsp;</span>X_train</a></span></li><li><span><a href=\"#X_norm\" data-toc-modified-id=\"X_norm-1.5.1.2\"><span class=\"toc-item-num\">1.5.1.2&nbsp;&nbsp;</span>X_norm</a></span></li></ul></li><li><span><a href=\"#note-learning-rate,-alpha\" data-toc-modified-id=\"note-learning-rate,-alpha-1.5.2\"><span class=\"toc-item-num\">1.5.2&nbsp;&nbsp;</span>note learning rate, alpha</a></span></li></ul></li></ul></li><li><span><a href=\"#linear-regression-with-scikit-learn-library\" data-toc-modified-id=\"linear-regression-with-scikit-learn-library-2\"><span class=\"toc-item-num\">2&nbsp;&nbsp;</span>linear regression with scikit learn library</a></span><ul class=\"toc-item\"><li><span><a href=\"#sklearn---gradient-descent-solution\" data-toc-modified-id=\"sklearn---gradient-descent-solution-2.1\"><span class=\"toc-item-num\">2.1&nbsp;&nbsp;</span>sklearn - gradient descent solution</a></span><ul class=\"toc-item\"><li><span><a href=\"#load-the-dataset\" data-toc-modified-id=\"load-the-dataset-2.1.1\"><span class=\"toc-item-num\">2.1.1&nbsp;&nbsp;</span>load the dataset</a></span></li><li><span><a href=\"#normalize-the-training-data\" data-toc-modified-id=\"normalize-the-training-data-2.1.2\"><span class=\"toc-item-num\">2.1.2&nbsp;&nbsp;</span>normalize the training data</a></span></li><li><span><a href=\"#Create-and-fit-the-regression-model\" data-toc-modified-id=\"Create-and-fit-the-regression-model-2.1.3\"><span class=\"toc-item-num\">2.1.3&nbsp;&nbsp;</span>Create and fit the regression model</a></span></li><li><span><a href=\"#View-parameters\" data-toc-modified-id=\"View-parameters-2.1.4\"><span class=\"toc-item-num\">2.1.4&nbsp;&nbsp;</span>View parameters</a></span></li><li><span><a href=\"#Make-predictions\" data-toc-modified-id=\"Make-predictions-2.1.5\"><span class=\"toc-item-num\">2.1.5&nbsp;&nbsp;</span>Make predictions</a></span></li><li><span><a href=\"#plot-results\" data-toc-modified-id=\"plot-results-2.1.6\"><span class=\"toc-item-num\">2.1.6&nbsp;&nbsp;</span>plot results</a></span></li></ul></li><li><span><a href=\"#sklearn---normal-equation\" data-toc-modified-id=\"sklearn---normal-equation-2.2\"><span class=\"toc-item-num\">2.2&nbsp;&nbsp;</span>sklearn - normal equation</a></span><ul class=\"toc-item\"><li><span><a href=\"#create-and-fit-model\" data-toc-modified-id=\"create-and-fit-model-2.2.1\"><span class=\"toc-item-num\">2.2.1&nbsp;&nbsp;</span>create and fit model</a></span></li></ul></li></ul></li></ul></div>"
   ]
  },
  {
   "cell_type": "markdown",
   "id": "24c3d154",
   "metadata": {},
   "source": [
    "# multiple linear regression\n"
   ]
  },
  {
   "cell_type": "markdown",
   "id": "908ba3b7",
   "metadata": {},
   "source": [
    "Reference: Andrew Ng's Supervised Machine Learning: Regression and Classification course on Coursera"
   ]
  },
  {
   "cell_type": "code",
   "execution_count": 1,
   "id": "33456a06",
   "metadata": {},
   "outputs": [],
   "source": [
    "import copy\n",
    "import math\n",
    "import numpy as np\n",
    "import matplotlib.pyplot as plt\n",
    "plt.style.use('./deeplearning.mplstyle')\n",
    "np.set_printoptions(precision=2)  # reduced display precision (number of digits) on numpy arrays"
   ]
  },
  {
   "cell_type": "markdown",
   "id": "456c8a8c",
   "metadata": {},
   "source": [
    "## Problem Statement\n",
    "\n",
    "You will use the motivating example of housing price prediction. The training dataset contains three examples with four features (size, bedrooms, floors and, age) shown in the table below.  Note that, unlike the earlier labs, size is in sqft rather than 1000 sqft. This causes an issue, which you will solve in the next lab!\n",
    "\n",
    "| Size (sqft) | Number of Bedrooms  | Number of floors | Age of  Home | Price (1000s dollars)  |   \n",
    "| ----------------| ------------------- |----------------- |--------------|-------------- |  \n",
    "| 2104            | 5                   | 1                | 45           | 460           |  \n",
    "| 1416            | 3                   | 2                | 40           | 232           |  \n",
    "| 852             | 2                   | 1                | 35           | 178           |  \n",
    "\n",
    "You will build a linear regression model using these values so you can then predict the price for other houses. For example, a house with 1200 sqft, 3 bedrooms, 1 floor, 40 years old.  \n",
    "\n",
    "Please run the following code cell to create your `X_train` and `y_train` variables."
   ]
  },
  {
   "cell_type": "code",
   "execution_count": 2,
   "id": "4f498571",
   "metadata": {},
   "outputs": [],
   "source": [
    "X_train = np.array([[2104, 5, 1, 45], [1416, 3, 2, 40], [852, 2, 1, 35]])\n",
    "y_train = np.array([460, 232, 178])    # capital letter for matrix, small letter for vectors and scalar"
   ]
  },
  {
   "cell_type": "code",
   "execution_count": 3,
   "id": "93851335",
   "metadata": {},
   "outputs": [
    {
     "name": "stdout",
     "output_type": "stream",
     "text": [
      "X_train.shape: (3, 4), X_train type: <class 'numpy.ndarray'>, \n",
      "[[2104    5    1   45]\n",
      " [1416    3    2   40]\n",
      " [ 852    2    1   35]]\n",
      "\n",
      "y_train.shape: (3,), y_train type: <class 'numpy.ndarray'>, \n",
      "[460 232 178]\n"
     ]
    }
   ],
   "source": [
    "print(f'X_train.shape: {X_train.shape}, X_train type: {type(X_train)}, \\n{X_train}')\n",
    "print(f'\\ny_train.shape: {y_train.shape}, y_train type: {type(y_train)}, \\n{y_train}')"
   ]
  },
  {
   "cell_type": "markdown",
   "id": "cdd34e35",
   "metadata": {},
   "source": [
    "## construct predict function"
   ]
  },
  {
   "cell_type": "code",
   "execution_count": 4,
   "id": "9ade8f05",
   "metadata": {},
   "outputs": [],
   "source": [
    "def predict(X,w,b):\n",
    "    \"\"\"\n",
    "    single predict using linear regression\n",
    "    Args:\n",
    "    x (ndarray): Shape (n,) example with multiple features\n",
    "    w (ndarray): Shape (n,) model parameters   \n",
    "    b (scalar):             model parameter \n",
    "      \n",
    "    Returns:\n",
    "    p (scalar):  prediction\n",
    "    \"\"\"\n",
    "    p = np.dot(X,w) + b\n",
    "    return p"
   ]
  },
  {
   "cell_type": "code",
   "execution_count": 5,
   "id": "ec597954",
   "metadata": {},
   "outputs": [],
   "source": [
    "# initialise w and b\n",
    "\n",
    "b_init = 0\n",
    "w_init = np.zeros(X_train.shape[1])"
   ]
  },
  {
   "cell_type": "code",
   "execution_count": 6,
   "id": "dd83f68b",
   "metadata": {},
   "outputs": [
    {
     "data": {
      "text/plain": [
       "0.0"
      ]
     },
     "execution_count": 6,
     "metadata": {},
     "output_type": "execute_result"
    }
   ],
   "source": [
    "#test function\n",
    "predict(X_train[0,:], w_init, b_init)"
   ]
  },
  {
   "cell_type": "markdown",
   "id": "bd36145f",
   "metadata": {},
   "source": [
    "## Compute cost function with multiple variables\n",
    "\n",
    "The equation for the cost function with multiple variables $J(\\mathbf{w},b)$ is:\n",
    "$$J(\\mathbf{w},b) = \\frac{1}{2m} \\sum\\limits_{i = 0}^{m-1} (f_{\\mathbf{w},b}(\\mathbf{x}^{(i)}) - y^{(i)})^2 \\tag{3}$$ \n",
    "where:\n",
    "$$ f_{\\mathbf{w},b}(\\mathbf{x}^{(i)}) = \\mathbf{w} \\cdot \\mathbf{x}^{(i)} + b  \\tag{4} $$ \n",
    "\n",
    "\n",
    "In contrast to previous labs, $\\mathbf{w}$ and $\\mathbf{x}^{(i)}$ are vectors rather than scalars supporting multiple features."
   ]
  },
  {
   "cell_type": "code",
   "execution_count": 7,
   "id": "a686a55b",
   "metadata": {},
   "outputs": [],
   "source": [
    "def compute_cost(X,y,w,b):\n",
    "    \"\"\"\n",
    "    Compute cost\n",
    "    Args:\n",
    "    X (ndarray(m,n)): training data, with m samples and n features\n",
    "    y (ndarray(m,)): target values for each sample m\n",
    "    w (ndarray(n,)): model parameters, weightage\n",
    "    b (scalar): model parameter, bias\n",
    "    \n",
    "    return:\n",
    "    cost (scalar): cost\n",
    "    \"\"\"\n",
    "    m,n = X.shape\n",
    "    cost = 0\n",
    "    \n",
    "    for i in range(m):\n",
    "        f_wb = np.dot(X[i], w) + b    #(n,)(n,) = scalar (see np.dot)\n",
    "        cost += (f_wb - y[i])**2\n",
    "    cost = cost/ (2*m)\n",
    "    return cost"
   ]
  },
  {
   "cell_type": "code",
   "execution_count": 8,
   "id": "2f65618c",
   "metadata": {},
   "outputs": [
    {
     "data": {
      "text/plain": [
       "49518.0"
      ]
     },
     "execution_count": 8,
     "metadata": {},
     "output_type": "execute_result"
    }
   ],
   "source": [
    "# test function\n",
    "\n",
    "compute_cost(X_train, y_train, w_init, b_init)"
   ]
  },
  {
   "cell_type": "markdown",
   "id": "31f96276",
   "metadata": {},
   "source": [
    "## Gradient descent with multiple variables\n",
    "\n",
    "Gradient descent for multiple variables:\n",
    "\n",
    "$$\\begin{align*} \\text{repeat}&\\text{ until convergence:} \\; \\lbrace \\newline\\;\n",
    "& w_j = w_j -  \\alpha \\frac{\\partial J(\\mathbf{w},b)}{\\partial w_j} \\tag{5}  \\; & \\text{for j = 0..n-1}\\newline\n",
    "&b\\ \\ = b -  \\alpha \\frac{\\partial J(\\mathbf{w},b)}{\\partial b}  \\newline \\rbrace\n",
    "\\end{align*}$$\n",
    "\n",
    "where, n is the number of features, parameters $w_j$,  $b$, are updated simultaneously and where  \n",
    "\n",
    "$$\n",
    "\\begin{align}\n",
    "\\frac{\\partial J(\\mathbf{w},b)}{\\partial w_j}  &= \\frac{1}{m} \\sum\\limits_{i = 0}^{m-1} (f_{\\mathbf{w},b}(\\mathbf{x}^{(i)}) - y^{(i)})x_{j}^{(i)} \\tag{6}  \\\\\n",
    "\\frac{\\partial J(\\mathbf{w},b)}{\\partial b}  &= \\frac{1}{m} \\sum\\limits_{i = 0}^{m-1} (f_{\\mathbf{w},b}(\\mathbf{x}^{(i)}) - y^{(i)}) \\tag{7}\n",
    "\\end{align}\n",
    "$$\n",
    "* m is the number of training examples in the data set\n",
    "\n",
    "    \n",
    "*  $f_{\\mathbf{w},b}(\\mathbf{x}^{(i)})$ is the model's prediction, while $y^{(i)}$ is the target value\n"
   ]
  },
  {
   "cell_type": "markdown",
   "id": "d11a895c",
   "metadata": {},
   "source": [
    "**Compute gradient first**"
   ]
  },
  {
   "cell_type": "code",
   "execution_count": 9,
   "id": "d02a20a1",
   "metadata": {},
   "outputs": [],
   "source": [
    "def compute_gradient(X,y,w,b):\n",
    "    \"\"\"\n",
    "    compute gradient of cost function\n",
    "    Args:\n",
    "    X (ndarray(m,n)): training data, with m samples and n features\n",
    "    y (ndarray(m,)): target values for each sample m\n",
    "    w (ndarray(n,)): model parameters, weightage\n",
    "    b (scalar): model parameter, bias\n",
    "    \n",
    "    return:\n",
    "    dj_db (scalar): The gradient of the cost w.r.t. the parameter b.\n",
    "    dj_dw (vector): The gradient of the cost w.r.t. the parameter w.\n",
    "    \"\"\"\n",
    "    m,n = X.shape\n",
    "    dj_dw = np.zeros((n,))\n",
    "    dj_db = 0.\n",
    "    \n",
    "    for i in range(m):\n",
    "        err = np.dot(X[i],w) + b -y[i]    # compute error between model predictions and target values\n",
    "        for j in range(n):\n",
    "            dj_dw_i = err * X[i,j]\n",
    "            dj_dw[j] += dj_dw_i           # dj_dw is a vector\n",
    "        dj_db += err\n",
    "    dj_dw = dj_dw / m\n",
    "    dj_db = dj_db / m\n",
    "    \n",
    "    return dj_dw, dj_db"
   ]
  },
  {
   "cell_type": "code",
   "execution_count": 10,
   "id": "770fd7da",
   "metadata": {},
   "outputs": [
    {
     "data": {
      "text/plain": [
       "(array([-4.83e+05, -1.12e+03, -3.67e+02, -1.21e+04]), -290.0)"
      ]
     },
     "execution_count": 10,
     "metadata": {},
     "output_type": "execute_result"
    }
   ],
   "source": [
    "# test function\n",
    "\n",
    "compute_gradient(X_train, y_train, w_init, b_init)"
   ]
  },
  {
   "cell_type": "markdown",
   "id": "88e702b1",
   "metadata": {},
   "source": [
    "**compute gradient descent**"
   ]
  },
  {
   "cell_type": "code",
   "execution_count": 11,
   "id": "825a0313",
   "metadata": {},
   "outputs": [],
   "source": [
    "def gradient_descent(X,y,w_in, b_in, cost_function, gradient_function, alpha, num_iters):\n",
    "    \"\"\"\n",
    "    Performs batch gradient descent to learn theta. Updates theta by taking \n",
    "    num_iters gradient steps with learning rate alpha\n",
    "    \n",
    "    Args:\n",
    "      X (ndarray (m,n))   : Data, m examples with n features\n",
    "      y (ndarray (m,))    : target values\n",
    "      w_in (ndarray (n,)) : initial model parameters  \n",
    "      b_in (scalar)       : initial model parameter\n",
    "      cost_function       : function to compute cost\n",
    "      gradient_function   : function to compute the gradient\n",
    "      alpha (float)       : Learning rate\n",
    "      num_iters (int)     : number of iterations to run gradient descent\n",
    "      \n",
    "    Returns:\n",
    "      w (ndarray (n,)) : Updated values of parameters \n",
    "      b (scalar)       : Updated value of parameter \n",
    "    \"\"\"\n",
    "    J_history = []    # empty array to store costs at each iteration\n",
    "    w, b = w_in, b_in # reassign name as w and b so to not mess with w_in and b_in in iterations later\n",
    "    \n",
    "    # update parameters w and b\n",
    "    for i in range(num_iters):\n",
    "        dj_dw, dj_db = gradient_function(X,y,w,b)     \n",
    "        w = w - alpha*dj_dw\n",
    "        b = b - alpha*dj_db\n",
    "        \n",
    "        # store the cost J of each iteration within a certain limit of iterations\n",
    "        if i < 10000:\n",
    "            J_history.append(cost_function(X,y,w,b))\n",
    "            \n",
    "        # print cost at selected intervals \n",
    "        if i% math.ceil(num_iters / 10) == 0:\n",
    "            print(f\"Iteration {i:4d}: Cost {J_history[-1]:8.2f}   \")\n",
    "            \n",
    "    return w, b, J_history"
   ]
  },
  {
   "cell_type": "code",
   "execution_count": 12,
   "id": "14f9fbbb",
   "metadata": {},
   "outputs": [
    {
     "name": "stdout",
     "output_type": "stream",
     "text": [
      "Iteration    0: Cost  2529.46   \n",
      "Iteration 2000: Cost   677.19   \n",
      "Iteration 4000: Cost   660.50   \n",
      "Iteration 6000: Cost   646.49   \n",
      "Iteration 8000: Cost   634.72   \n",
      "Iteration 10000: Cost   624.83   \n",
      "Iteration 12000: Cost   624.83   \n",
      "Iteration 14000: Cost   624.83   \n",
      "Iteration 16000: Cost   624.83   \n",
      "Iteration 18000: Cost   624.83   \n",
      "w_out: [ 0.23  0.06 -0.2  -0.95], b_out: -0.03\n"
     ]
    }
   ],
   "source": [
    "# test gradient_descent function\n",
    "\n",
    "# set parameters\n",
    "alpha = 5.0e-7\n",
    "iterations = 20000\n",
    "initial_w = np.zeros_like(w_init)\n",
    "initial_b = 0\n",
    "\n",
    "# run gradient descent\n",
    "\n",
    "w_out, b_out, J_history = gradient_descent(X_train, y_train, initial_w, initial_b, \n",
    "                                           compute_cost, compute_gradient, alpha, iterations)\n",
    "\n",
    "# print result\n",
    "print(f\"w_out: {w_out}, b_out: {b_out: 0.2f}\")"
   ]
  },
  {
   "cell_type": "code",
   "execution_count": 13,
   "id": "a6466bce",
   "metadata": {},
   "outputs": [
    {
     "name": "stdout",
     "output_type": "stream",
     "text": [
      "prediction: 433.66, target value: 460\n",
      "prediction: 282.29, target value: 232\n",
      "prediction: 159.47, target value: 178\n"
     ]
    }
   ],
   "source": [
    "# linear regression to predict price,y given features, X\n",
    "\n",
    "m,_ = X_train.shape\n",
    "for i in range(m):\n",
    "    print(f\"prediction: {np.dot(X_train[i], w_out) + b_out:0.2f}, target value: {y_train[i]}\")"
   ]
  },
  {
   "cell_type": "markdown",
   "id": "9214057d",
   "metadata": {},
   "source": [
    "## feature scaling\n",
    "\n",
    "For normalized variables, gradient descent can be carried out much more efficiently. "
   ]
  },
  {
   "cell_type": "code",
   "execution_count": 14,
   "id": "b62caceb",
   "metadata": {},
   "outputs": [],
   "source": [
    "def zscore_normalize_features(X):\n",
    "    \"\"\"\n",
    "    normalize X_train to z scale\n",
    "    Arg:\n",
    "    X (ndarray(m,n)): data to be normalized\n",
    "    \n",
    "    return:\n",
    "    X_norm (ndarray(m,n)): normalized data    \n",
    "    \"\"\"\n",
    "     # find the mean of each column/feature\n",
    "    mu     = np.mean(X, axis=0)                 # mu will have shape (n,)\n",
    "    # find the standard deviation of each column/feature\n",
    "    sigma  = np.std(X, axis=0)                  # sigma will have shape (n,)\n",
    "    # element-wise, subtract mu for that column from each example, divide by std for that column\n",
    "    X_norm = (X - mu) / sigma      \n",
    "\n",
    "    return X_norm, mu, sigma"
   ]
  },
  {
   "cell_type": "code",
   "execution_count": 15,
   "id": "f9de7462",
   "metadata": {},
   "outputs": [
    {
     "name": "stdout",
     "output_type": "stream",
     "text": [
      "X_norm: [[ 1.26  1.34 -0.71  1.22]\n",
      " [-0.08 -0.27  1.41  0.  ]\n",
      " [-1.18 -1.07 -0.71 -1.22]],\n",
      "mu: [1.46e+03 3.33e+00 1.33e+00 4.00e+01],\n",
      "sigma:[5.12e+02 1.25e+00 4.71e-01 4.08e+00]\n"
     ]
    }
   ],
   "source": [
    "X_norm, mu, sigma = zscore_normalize_features(X_train)\n",
    "\n",
    "print(f\"X_norm: {X_norm},\\nmu: {mu},\\nsigma:{sigma}\")"
   ]
  },
  {
   "cell_type": "markdown",
   "id": "d2350db2",
   "metadata": {},
   "source": [
    "**illustrate X_norm**"
   ]
  },
  {
   "cell_type": "code",
   "execution_count": 16,
   "id": "43bceb64",
   "metadata": {},
   "outputs": [],
   "source": [
    "def norm_plot(ax, data):\n",
    "    scale = (np.max(data) - np.min(data))*0.2\n",
    "    x = np.linspace(np.min(data)-scale,np.max(data)+scale,50)\n",
    "    _,bins, _ = ax.hist(data, x, color=\"xkcd:azure\")\n",
    "    #ax.set_ylabel(\"Count\")\n",
    "    \n",
    "    mu = np.mean(data); \n",
    "    std = np.std(data); \n",
    "    dist = norm.pdf(bins, loc=mu, scale = std)\n",
    "    \n",
    "    axr = ax.twinx()\n",
    "    axr.plot(bins,dist, color = \"orangered\", lw=2)\n",
    "    axr.set_ylim(bottom=0)\n",
    "    axr.axis('off')"
   ]
  },
  {
   "cell_type": "code",
   "execution_count": 17,
   "id": "750e00c7",
   "metadata": {},
   "outputs": [
    {
     "data": {
      "image/png": "[encoded data removed]",
      "text/plain": [
       "<Figure size 864x216 with 8 Axes>"
      ]
     },
     "metadata": {},
     "output_type": "display_data"
    }
   ],
   "source": [
    "fig, ax = plt.subplots(1,4, figsize=(12,3),sharey=True)\n",
    "X_features = [\"Size (sqft)\", \"Number of Bedrooms\", \"Number of floors\", \"Age of Home\"]\n",
    "\n",
    "from scipy.stats import norm\n",
    "\n",
    "for i in range(len(ax)):\n",
    "    norm_plot(ax[i],X_norm[:,i],)\n",
    "    ax[i].set_xlabel(X_features[i])\n",
    "ax[0].set_ylabel(\"count\"); \n",
    "fig.suptitle(\"distribution of features after normalization\")\n",
    "\n",
    "plt.show()"
   ]
  },
  {
   "cell_type": "markdown",
   "id": "5089124c",
   "metadata": {},
   "source": [
    "### compare between X_norm and X_train"
   ]
  },
  {
   "cell_type": "markdown",
   "id": "faded723",
   "metadata": {},
   "source": [
    "#### X_train"
   ]
  },
  {
   "cell_type": "code",
   "execution_count": 18,
   "id": "5ffbc069",
   "metadata": {},
   "outputs": [
    {
     "name": "stdout",
     "output_type": "stream",
     "text": [
      "Iteration    0: Cost  2529.46   \n",
      "Iteration 2000: Cost   677.19   \n",
      "Iteration 4000: Cost   660.50   \n",
      "Iteration 6000: Cost   646.49   \n",
      "Iteration 8000: Cost   634.72   \n",
      "Iteration 10000: Cost   624.83   \n",
      "Iteration 12000: Cost   624.83   \n",
      "Iteration 14000: Cost   624.83   \n",
      "Iteration 16000: Cost   624.83   \n",
      "Iteration 18000: Cost   624.83   \n",
      "w_out: [ 0.23  0.06 -0.2  -0.95], b_out: -0.03\n"
     ]
    }
   ],
   "source": [
    "# test gradient_descent function\n",
    "\n",
    "# set parameters\n",
    "alpha = 5.0e-7\n",
    "iterations = 20000\n",
    "initial_w = np.zeros_like(w_init)\n",
    "initial_b = 0\n",
    "\n",
    "# run gradient descent\n",
    "\n",
    "w_out, b_out, J_history = gradient_descent(X_train, y_train, initial_w, initial_b, \n",
    "                                           compute_cost, compute_gradient, alpha, iterations)\n",
    "\n",
    "# print result\n",
    "print(f\"w_out: {w_out}, b_out: {b_out: 0.2f}\")"
   ]
  },
  {
   "cell_type": "code",
   "execution_count": 19,
   "id": "7471dcb3",
   "metadata": {},
   "outputs": [
    {
     "name": "stdout",
     "output_type": "stream",
     "text": [
      "prediction: 433.66, target value: 460\n",
      "prediction: 282.29, target value: 232\n",
      "prediction: 159.47, target value: 178\n"
     ]
    }
   ],
   "source": [
    "# linear regression to predict price,y given features, X\n",
    "\n",
    "m,_ = X_train.shape\n",
    "for i in range(m):\n",
    "    print(f\"prediction: {np.dot(X_train[i], w_out) + b_out:0.2f}, target value: {y_train[i]}\")"
   ]
  },
  {
   "cell_type": "markdown",
   "id": "f64e9c6e",
   "metadata": {},
   "source": [
    "#### X_norm"
   ]
  },
  {
   "cell_type": "code",
   "execution_count": 20,
   "id": "51c61e5b",
   "metadata": {},
   "outputs": [
    {
     "name": "stdout",
     "output_type": "stream",
     "text": [
      "Iteration    0: Cost 49517.99   \n",
      "Iteration 2000: Cost 49492.52   \n",
      "Iteration 4000: Cost 49467.07   \n",
      "Iteration 6000: Cost 49441.63   \n",
      "Iteration 8000: Cost 49416.22   \n",
      "Iteration 10000: Cost 49390.83   \n",
      "Iteration 12000: Cost 49390.83   \n",
      "Iteration 14000: Cost 49390.83   \n",
      "Iteration 16000: Cost 49390.83   \n",
      "Iteration 18000: Cost 49390.83   \n",
      "w_out_norm: [ 0.23  0.24 -0.08  0.23], b_out_norm:  0.58\n"
     ]
    }
   ],
   "source": [
    "# test gradient_descent function\n",
    "\n",
    "# set parameters\n",
    "alpha = 1e-7\n",
    "iterations = 20000\n",
    "initial_w = np.zeros_like(w_init)\n",
    "initial_b = 0\n",
    "\n",
    "# run gradient descent\n",
    "\n",
    "w_out_norm, b_out_norm, J_history = gradient_descent(X_norm, y_train, initial_w, initial_b, \n",
    "                                           compute_cost, compute_gradient, alpha, iterations)\n",
    "\n",
    "# print result\n",
    "print(f\"w_out_norm: {w_out_norm}, b_out_norm: {b_out_norm: 0.2f}\")"
   ]
  },
  {
   "cell_type": "code",
   "execution_count": 21,
   "id": "9e4eb059",
   "metadata": {},
   "outputs": [
    {
     "name": "stdout",
     "output_type": "stream",
     "text": [
      "X_train:\n",
      "prediction: 433.66, target value: 460\n",
      "prediction: 282.29, target value: 232\n",
      "prediction: 159.47, target value: 178\n",
      "\n",
      "X_norm:\n",
      "prediction: 1.54, target value: 460\n",
      "prediction: 0.38, target value: 232\n",
      "prediction: -0.18, target value: 178\n"
     ]
    }
   ],
   "source": [
    "# linear regression to predict price,y given features, X\n",
    "\n",
    "m,_ = X_norm.shape\n",
    "\n",
    "print(\"X_train:\")\n",
    "for i in range(m):\n",
    "    print(f\"prediction: {np.dot(X_train[i], w_out) + b_out:0.2f}, target value: {y_train[i]}\")\n",
    "\n",
    "print(\"\\nX_norm:\")\n",
    "for i in range(m):\n",
    "    print(f\"prediction: {np.dot(X_norm[i], w_out_norm) + b_out_norm:0.2f}, target value: {y_train[i]}\")"
   ]
  },
  {
   "cell_type": "markdown",
   "id": "7c615389",
   "metadata": {},
   "source": [
    "**TIPS: the difference is can be fixed by adjusting the learning rate, alpha.**"
   ]
  },
  {
   "cell_type": "markdown",
   "id": "610b388c",
   "metadata": {},
   "source": [
    "### note learning rate, alpha\n",
    "\n",
    "With variables of different scale, learning rate needs to be adjusted accordingly.\n",
    "- the larger the variables, the smaller the learning rate\n",
    "- the smaller the variables, the larger the learning rate\n",
    "\n",
    "Best practice: start with larger alpha where gradient descent turns out `nan` values and gradually reduce from there"
   ]
  },
  {
   "cell_type": "code",
   "execution_count": 22,
   "id": "b24293c5",
   "metadata": {},
   "outputs": [
    {
     "name": "stdout",
     "output_type": "stream",
     "text": [
      "Iteration    0: Cost 37840.46   \n",
      "Iteration  100: Cost     0.00   \n",
      "Iteration  200: Cost     0.00   \n",
      "Iteration  300: Cost     0.00   \n",
      "Iteration  400: Cost     0.00   \n",
      "Iteration  500: Cost     0.00   \n",
      "Iteration  600: Cost     0.00   \n",
      "Iteration  700: Cost     0.00   \n",
      "Iteration  800: Cost     0.00   \n",
      "Iteration  900: Cost     0.00   \n",
      "w_out_norm: [ 38.05  41.54 -30.99  36.34], b_out_norm:  290.00\n"
     ]
    }
   ],
   "source": [
    "# test gradient_descent function\n",
    "\n",
    "# set parameters\n",
    "alpha = 0.1\n",
    "iterations = 1000\n",
    "initial_w = np.zeros_like(w_init)\n",
    "initial_b = 0\n",
    "\n",
    "# run gradient descent\n",
    "\n",
    "w_out_norm, b_out_norm, J_history = gradient_descent(X_norm, y_train, initial_w, initial_b, \n",
    "                                           compute_cost, compute_gradient, alpha, iterations)\n",
    "\n",
    "# print result\n",
    "print(f\"w_out_norm: {w_out_norm}, b_out_norm: {b_out_norm: 0.2f}\")"
   ]
  },
  {
   "cell_type": "code",
   "execution_count": 23,
   "id": "baa3b337",
   "metadata": {},
   "outputs": [
    {
     "name": "stdout",
     "output_type": "stream",
     "text": [
      "X_train:\n",
      "prediction: 433.66, target value: 460\n",
      "prediction: 282.29, target value: 232\n",
      "prediction: 159.47, target value: 178\n",
      "\n",
      "X_norm:\n",
      "prediction: 460.00, target value: 460\n",
      "prediction: 232.00, target value: 232\n",
      "prediction: 178.00, target value: 178\n"
     ]
    }
   ],
   "source": [
    "# re-test the linear regression algorithm\n",
    "\n",
    "print(\"X_train:\")\n",
    "for i in range(m):\n",
    "    print(f\"prediction: {np.dot(X_train[i], w_out) + b_out:0.2f}, target value: {y_train[i]}\")\n",
    "\n",
    "print(\"\\nX_norm:\")\n",
    "for i in range(m):\n",
    "    print(f\"prediction: {np.dot(X_norm[i], w_out_norm) + b_out_norm:0.2f}, target value: {y_train[i]}\")"
   ]
  },
  {
   "cell_type": "markdown",
   "id": "d620abd1",
   "metadata": {},
   "source": [
    "# linear regression with scikit learn library"
   ]
  },
  {
   "cell_type": "markdown",
   "id": "5926adce",
   "metadata": {},
   "source": [
    "## sklearn - gradient descent solution"
   ]
  },
  {
   "cell_type": "code",
   "execution_count": 24,
   "id": "0602983a",
   "metadata": {},
   "outputs": [],
   "source": [
    "# import libraries\n",
    "from sklearn.linear_model import SGDRegressor\n",
    "from sklearn.preprocessing import StandardScaler"
   ]
  },
  {
   "cell_type": "markdown",
   "id": "543d6734",
   "metadata": {},
   "source": [
    "- https://scikit-learn.org/stable/modules/generated/sklearn.linear_model.SGDRegressor.html\n",
    "- https://scikit-learn.org/stable/modules/generated/sklearn.preprocessing.StandardScaler.html"
   ]
  },
  {
   "cell_type": "markdown",
   "id": "c36286c8",
   "metadata": {},
   "source": [
    "### load the dataset"
   ]
  },
  {
   "cell_type": "code",
   "execution_count": 39,
   "id": "1a4d9930",
   "metadata": {},
   "outputs": [],
   "source": [
    "# load data\n",
    "from lab_utils_multi import  load_house_data"
   ]
  },
  {
   "cell_type": "code",
   "execution_count": 40,
   "id": "e89113d0",
   "metadata": {},
   "outputs": [],
   "source": [
    "X_train_sk, y_train_sk = load_house_data()\n",
    "X_features = ['size(sqft)','bedrooms','floors','age']"
   ]
  },
  {
   "cell_type": "markdown",
   "id": "0e9783b6",
   "metadata": {},
   "source": [
    "### normalize the training data"
   ]
  },
  {
   "cell_type": "code",
   "execution_count": 41,
   "id": "d3258902",
   "metadata": {},
   "outputs": [
    {
     "data": {
      "text/plain": [
       "array([864.,   2.,   1.,  66.])"
      ]
     },
     "execution_count": 41,
     "metadata": {},
     "output_type": "execute_result"
    }
   ],
   "source": [
    "X_train_sk[5]"
   ]
  },
  {
   "cell_type": "code",
   "execution_count": 44,
   "id": "88983ec2",
   "metadata": {},
   "outputs": [],
   "source": [
    "scaler = StandardScaler()\n",
    "\n",
    "# normalize training data\n",
    "scaler.fit(X_train)\n",
    "X_norm_sk = scaler.transform(X_train)"
   ]
  },
  {
   "cell_type": "code",
   "execution_count": 45,
   "id": "9a5e0f24",
   "metadata": {},
   "outputs": [],
   "source": [
    "# one-line alternative\n",
    "X_norm_sk = scaler.fit_transform(X_train_sk)"
   ]
  },
  {
   "cell_type": "code",
   "execution_count": 48,
   "id": "eecadd41",
   "metadata": {},
   "outputs": [
    {
     "name": "stdout",
     "output_type": "stream",
     "text": [
      "Peak to Peak range by column in Raw        X:[2.41e+03 4.00e+00 1.00e+00 9.50e+01]\n",
      "Peak to Peak range by column in Normalized X:[2.45 2.41 2.12 2.45]\n"
     ]
    }
   ],
   "source": [
    "print(f\"Peak to Peak range by column in Raw        X:{np.ptp(X_train,axis=0)}\")   \n",
    "print(f\"Peak to Peak range by column in Normalized X:{np.ptp(X_norm,axis=0)}\")"
   ]
  },
  {
   "cell_type": "markdown",
   "id": "14f56de9",
   "metadata": {},
   "source": [
    "### Create and fit the regression model"
   ]
  },
  {
   "cell_type": "code",
   "execution_count": 57,
   "id": "52ab0ccb",
   "metadata": {
    "scrolled": true
   },
   "outputs": [
    {
     "name": "stdout",
     "output_type": "stream",
     "text": [
      "SGDRegressor()\n"
     ]
    }
   ],
   "source": [
    "sgdr = SGDRegressor(max_iter=1000)\n",
    "sgdr.fit(X_norm_sk, y_train_sk)\n",
    "print(sgdr)"
   ]
  },
  {
   "cell_type": "markdown",
   "id": "ea2d272b",
   "metadata": {},
   "source": [
    "### View parameters\n",
    "Note, the parameters are associated with the *normalized* input data. The fit parameters are very close to those found in the previous lab with this data."
   ]
  },
  {
   "cell_type": "code",
   "execution_count": 62,
   "id": "d4db99ba",
   "metadata": {},
   "outputs": [
    {
     "name": "stdout",
     "output_type": "stream",
     "text": [
      "model parameters:                   w: [110.24 -21.11 -32.52 -38.03], b:[363.15]\n",
      "number of iterations completed: 132, number of weight updates: 13069.0\n"
     ]
    }
   ],
   "source": [
    "b_norm_sk = sgdr.intercept_\n",
    "w_norm_sk = sgdr.coef_\n",
    "print(f\"model parameters:                   w: {w_norm_sk}, b:{b_norm_sk}\")\n",
    "print(f\"number of iterations completed: {sgdr.n_iter_}, number of weight updates: {sgdr.t_}\")"
   ]
  },
  {
   "cell_type": "code",
   "execution_count": 56,
   "id": "0ec17046",
   "metadata": {},
   "outputs": [
    {
     "data": {
      "text/plain": [
       "11089.0"
      ]
     },
     "execution_count": 56,
     "metadata": {},
     "output_type": "execute_result"
    }
   ],
   "source": [
    "sgdr.t_"
   ]
  },
  {
   "cell_type": "markdown",
   "id": "3e2beb42",
   "metadata": {},
   "source": [
    "### Make predictions\n",
    "Predict the targets of the training data. Use both the `predict` routine and compute using $w$ and $b$."
   ]
  },
  {
   "cell_type": "code",
   "execution_count": 70,
   "id": "0a25adba",
   "metadata": {},
   "outputs": [
    {
     "name": "stdout",
     "output_type": "stream",
     "text": [
      "Prediction on training set:\n",
      "[295.16 485.92 389.58 492.09]\n",
      "\n",
      "Prediction on training set:\n",
      "[295.16 485.92 389.58 492.09]\n",
      "\n",
      "prediction using np.dot() and sgdr.predict match: True\n",
      "\n",
      "Target values \n",
      "[300.  509.8 394.  540. ]\n"
     ]
    }
   ],
   "source": [
    "# make a prediction using sgdr.predict()\n",
    "y_pred_sgd = sgdr.predict(X_norm_sk)\n",
    "print(f\"Prediction on training set:\\n{y_pred_sgd[:4]}\" )\n",
    "\n",
    "# make a prediction using w,b. \n",
    "y_pred = np.dot(X_norm_sk, w_norm_sk) + b_norm_sk  \n",
    "print(f\"\\nPrediction on training set:\\n{y_pred[:4]}\" )\n",
    "\n",
    "# check if they are the same\n",
    "print(f\"\\nprediction using np.dot() and sgdr.predict match: {(y_pred == y_pred_sgd).all()}\")\n",
    "\n",
    "# check target values\n",
    "print(f\"\\nTarget values \\n{y_train_sk[:4]}\")"
   ]
  },
  {
   "cell_type": "markdown",
   "id": "593a5986",
   "metadata": {},
   "source": [
    "### plot results"
   ]
  },
  {
   "cell_type": "code",
   "execution_count": 73,
   "id": "3c5729b0",
   "metadata": {},
   "outputs": [
    {
     "data": {
      "image/png": "[encoded data removed]",
      "text/plain": [
       "<Figure size 864x216 with 4 Axes>"
      ]
     },
     "metadata": {},
     "output_type": "display_data"
    }
   ],
   "source": [
    "fig,ax=plt.subplots(1,4,figsize=(12,3),sharey=True)\n",
    "\n",
    "for i in range(len(ax)):\n",
    "    ax[i].scatter(X_train_sk[:,i], y_train_sk, label = 'target')\n",
    "    ax[i].set_xlabel(X_features[i])\n",
    "    ax[i].scatter(X_train_sk[:,i], y_pred_sgd, color = '#ff9300', label = 'predict')\n",
    "ax[0].set_ylabel('Price in 1000s')\n",
    "fig.suptitle(\"target versus prediction using z-score normalized model\")\n",
    "plt.show()"
   ]
  },
  {
   "cell_type": "markdown",
   "id": "b3290000",
   "metadata": {},
   "source": [
    "## sklearn - normal equation\n",
    "\n",
    "Utilize  scikit-learn to implement linear regression using a close form solution based on the normal equation"
   ]
  },
  {
   "cell_type": "code",
   "execution_count": 74,
   "id": "f086ae94",
   "metadata": {},
   "outputs": [],
   "source": [
    "from sklearn.linear_model import LinearRegression"
   ]
  },
  {
   "cell_type": "markdown",
   "id": "c885f513",
   "metadata": {},
   "source": [
    "### create and fit model"
   ]
  },
  {
   "cell_type": "code",
   "execution_count": 84,
   "id": "358b04b1",
   "metadata": {},
   "outputs": [],
   "source": [
    "linear_model = LinearRegression()"
   ]
  },
  {
   "cell_type": "code",
   "execution_count": 88,
   "id": "b64236a1",
   "metadata": {},
   "outputs": [
    {
     "data": {
      "text/html": [
       "<style>#sk-container-id-4 {color: black;background-color: white;}#sk-container-id-4 pre{padding: 0;}#sk-container-id-4 div.sk-toggleable {background-color: white;}#sk-container-id-4 label.sk-toggleable__label {cursor: pointer;display: block;width: 100%;margin-bottom: 0;padding: 0.3em;box-sizing: border-box;text-align: center;}#sk-container-id-4 label.sk-toggleable__label-arrow:before {content: \"▸\";float: left;margin-right: 0.25em;color: #696969;}#sk-container-id-4 label.sk-toggleable__label-arrow:hover:before {color: black;}#sk-container-id-4 div.sk-estimator:hover label.sk-toggleable__label-arrow:before {color: black;}#sk-container-id-4 div.sk-toggleable__content {max-height: 0;max-width: 0;overflow: hidden;text-align: left;background-color: #f0f8ff;}#sk-container-id-4 div.sk-toggleable__content pre {margin: 0.2em;color: black;border-radius: 0.25em;background-color: #f0f8ff;}#sk-container-id-4 input.sk-toggleable__control:checked~div.sk-toggleable__content {max-height: 200px;max-width: 100%;overflow: auto;}#sk-container-id-4 input.sk-toggleable__control:checked~label.sk-toggleable__label-arrow:before {content: \"▾\";}#sk-container-id-4 div.sk-estimator input.sk-toggleable__control:checked~label.sk-toggleable__label {background-color: #d4ebff;}#sk-container-id-4 div.sk-label input.sk-toggleable__control:checked~label.sk-toggleable__label {background-color: #d4ebff;}#sk-container-id-4 input.sk-hidden--visually {border: 0;clip: rect(1px 1px 1px 1px);clip: rect(1px, 1px, 1px, 1px);height: 1px;margin: -1px;overflow: hidden;padding: 0;position: absolute;width: 1px;}#sk-container-id-4 div.sk-estimator {font-family: monospace;background-color: #f0f8ff;border: 1px dotted black;border-radius: 0.25em;box-sizing: border-box;margin-bottom: 0.5em;}#sk-container-id-4 div.sk-estimator:hover {background-color: #d4ebff;}#sk-container-id-4 div.sk-parallel-item::after {content: \"\";width: 100%;border-bottom: 1px solid gray;flex-grow: 1;}#sk-container-id-4 div.sk-label:hover label.sk-toggleable__label {background-color: #d4ebff;}#sk-container-id-4 div.sk-serial::before {content: \"\";position: absolute;border-left: 1px solid gray;box-sizing: border-box;top: 0;bottom: 0;left: 50%;z-index: 0;}#sk-container-id-4 div.sk-serial {display: flex;flex-direction: column;align-items: center;background-color: white;padding-right: 0.2em;padding-left: 0.2em;position: relative;}#sk-container-id-4 div.sk-item {position: relative;z-index: 1;}#sk-container-id-4 div.sk-parallel {display: flex;align-items: stretch;justify-content: center;background-color: white;position: relative;}#sk-container-id-4 div.sk-item::before, #sk-container-id-4 div.sk-parallel-item::before {content: \"\";position: absolute;border-left: 1px solid gray;box-sizing: border-box;top: 0;bottom: 0;left: 50%;z-index: -1;}#sk-container-id-4 div.sk-parallel-item {display: flex;flex-direction: column;z-index: 1;position: relative;background-color: white;}#sk-container-id-4 div.sk-parallel-item:first-child::after {align-self: flex-end;width: 50%;}#sk-container-id-4 div.sk-parallel-item:last-child::after {align-self: flex-start;width: 50%;}#sk-container-id-4 div.sk-parallel-item:only-child::after {width: 0;}#sk-container-id-4 div.sk-dashed-wrapped {border: 1px dashed gray;margin: 0 0.4em 0.5em 0.4em;box-sizing: border-box;padding-bottom: 0.4em;background-color: white;}#sk-container-id-4 div.sk-label label {font-family: monospace;font-weight: bold;display: inline-block;line-height: 1.2em;}#sk-container-id-4 div.sk-label-container {text-align: center;}#sk-container-id-4 div.sk-container {/* jupyter's `normalize.less` sets `[hidden] { display: none; }` but bootstrap.min.css set `[hidden] { display: none !important; }` so we also need the `!important` here to be able to override the default hidden behavior on the sphinx rendered scikit-learn.org. See: https://github.com/scikit-learn/scikit-learn/issues/21755 */display: inline-block !important;position: relative;}#sk-container-id-4 div.sk-text-repr-fallback {display: none;}</style><div id=\"sk-container-id-4\" class=\"sk-top-container\"><div class=\"sk-text-repr-fallback\"><pre>LinearRegression()</pre><b>In a Jupyter environment, please rerun this cell to show the HTML representation or trust the notebook. <br />On GitHub, the HTML representation is unable to render, please try loading this page with nbviewer.org.</b></div><div class=\"sk-container\" hidden><div class=\"sk-item\"><div class=\"sk-estimator sk-toggleable\"><input class=\"sk-toggleable__control sk-hidden--visually\" id=\"sk-estimator-id-4\" type=\"checkbox\" checked><label for=\"sk-estimator-id-4\" class=\"sk-toggleable__label sk-toggleable__label-arrow\">LinearRegression</label><div class=\"sk-toggleable__content\"><pre>LinearRegression()</pre></div></div></div></div></div>"
      ],
      "text/plain": [
       "LinearRegression()"
      ]
     },
     "execution_count": 88,
     "metadata": {},
     "output_type": "execute_result"
    }
   ],
   "source": [
    "# X must be a 2-D matrix\n",
    "linear_model.fit(X_train_sk, y_train_sk)"
   ]
  },
  {
   "cell_type": "code",
   "execution_count": 94,
   "id": "3c01d2a4",
   "metadata": {},
   "outputs": [
    {
     "name": "stdout",
     "output_type": "stream",
     "text": [
      "w = [  0.27 -32.62 -67.25  -1.47], b = 220.42\n"
     ]
    }
   ],
   "source": [
    "# find out coef_ and intercept_ (w,b)\n",
    "b = linear_model.intercept_\n",
    "w = linear_model.coef_\n",
    "print(f\"w = {w:}, b = {b:0.2f}\")"
   ]
  },
  {
   "cell_type": "code",
   "execution_count": 93,
   "id": "3eda74e9",
   "metadata": {},
   "outputs": [
    {
     "name": "stdout",
     "output_type": "stream",
     "text": [
      "'manual' prediction: f_wb = wx+b : 295.17615301448825\n"
     ]
    }
   ],
   "source": [
    "# test regression model\n",
    "\n",
    "x_test = np.array(X_train[0, :])\n",
    "print(f\"'manual' prediction: f_wb = wx+b : {np.dot(x_test,w) + b}\")"
   ]
  }
 ],
 "metadata": {
  "kernelspec": {
   "display_name": "Python 3",
   "language": "python",
   "name": "python3"
  },
  "language_info": {
   "codemirror_mode": {
    "name": "ipython",
    "version": 3
   },
   "file_extension": ".py",
   "mimetype": "text/x-python",
   "name": "python",
   "nbconvert_exporter": "python",
   "pygments_lexer": "ipython3",
   "version": "3.8.8"
  },
  "toc": {
   "base_numbering": 1,
   "nav_menu": {},
   "number_sections": true,
   "sideBar": true,
   "skip_h1_title": false,
   "title_cell": "Table of Contents",
   "title_sidebar": "Contents",
   "toc_cell": true,
   "toc_position": {},
   "toc_section_display": true,
   "toc_window_display": true
  }
 },
 "nbformat": 4,
 "nbformat_minor": 5
}
