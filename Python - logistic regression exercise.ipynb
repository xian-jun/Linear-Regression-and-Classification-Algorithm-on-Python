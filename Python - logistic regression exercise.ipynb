{
 "cells": [
  {
   "cell_type": "markdown",
   "id": "e40251e4",
   "metadata": {
    "toc": true
   },
   "source": [
    "<h1>Table of Contents<span class=\"tocSkip\"></span></h1>\n",
    "<div class=\"toc\"><ul class=\"toc-item\"><li><span><a href=\"#classification\" data-toc-modified-id=\"classification-1\"><span class=\"toc-item-num\">1&nbsp;&nbsp;</span>classification</a></span><ul class=\"toc-item\"><li><span><a href=\"#set-up-data\" data-toc-modified-id=\"set-up-data-1.1\"><span class=\"toc-item-num\">1.1&nbsp;&nbsp;</span>set up data</a></span></li><li><span><a href=\"#logistic-regression\" data-toc-modified-id=\"logistic-regression-1.2\"><span class=\"toc-item-num\">1.2&nbsp;&nbsp;</span>logistic regression</a></span><ul class=\"toc-item\"><li><span><a href=\"#Formula-for-Sigmoid-function\" data-toc-modified-id=\"Formula-for-Sigmoid-function-1.2.1\"><span class=\"toc-item-num\">1.2.1&nbsp;&nbsp;</span>Formula for Sigmoid function</a></span></li><li><span><a href=\"#plotting-decision-boundary\" data-toc-modified-id=\"plotting-decision-boundary-1.2.2\"><span class=\"toc-item-num\">1.2.2&nbsp;&nbsp;</span>plotting decision boundary</a></span></li><li><span><a href=\"#logistic-loss-and-cost-function\" data-toc-modified-id=\"logistic-loss-and-cost-function-1.2.3\"><span class=\"toc-item-num\">1.2.3&nbsp;&nbsp;</span>logistic loss and cost function</a></span></li><li><span><a href=\"#gradient-descent\" data-toc-modified-id=\"gradient-descent-1.2.4\"><span class=\"toc-item-num\">1.2.4&nbsp;&nbsp;</span>gradient descent</a></span></li></ul></li><li><span><a href=\"#logistic-regression-with-scikit-learn\" data-toc-modified-id=\"logistic-regression-with-scikit-learn-1.3\"><span class=\"toc-item-num\">1.3&nbsp;&nbsp;</span>logistic regression with scikit learn</a></span></li></ul></li></ul></div>"
   ]
  },
  {
   "cell_type": "markdown",
   "id": "f2da809b",
   "metadata": {},
   "source": [
    "reference: Andrew Ng's Machine Learning Specialization course"
   ]
  },
  {
   "cell_type": "code",
   "execution_count": 1,
   "id": "d09142bd",
   "metadata": {},
   "outputs": [],
   "source": [
    "import numpy as np\n",
    "import matplotlib.pyplot as plt\n",
    "plt.style.use('utility files/deeplearning.mplstyle')"
   ]
  },
  {
   "cell_type": "code",
   "execution_count": 2,
   "id": "d2a4b669",
   "metadata": {},
   "outputs": [],
   "source": [
    "#from lab_utils_common import dlc, plot_data, draw_vthresh\n",
    "#from plt_one_addpt_onclick import plt_one_addpt_onclick"
   ]
  },
  {
   "cell_type": "markdown",
   "id": "e4aa102a",
   "metadata": {},
   "source": [
    "# classification"
   ]
  },
  {
   "cell_type": "markdown",
   "id": "dff338ab",
   "metadata": {},
   "source": [
    "## set up data"
   ]
  },
  {
   "cell_type": "code",
   "execution_count": 3,
   "id": "d341111f",
   "metadata": {},
   "outputs": [],
   "source": [
    "# dataset 1\n",
    "x_train = np.array([0., 1, 2, 3, 4, 5])\n",
    "y_train = np.array([0,  0, 0, 1, 1, 1])\n",
    "\n",
    "# dataset 2\n",
    "X_train2 = np.array([[0.5, 1.5], [1,1], [1.5, 0.5], [3, 0.5], [2, 2], [1, 2.5]])\n",
    "y_train2 = np.array([0, 0, 0, 1, 1, 1])"
   ]
  },
  {
   "cell_type": "code",
   "execution_count": 5,
   "id": "55dae041",
   "metadata": {},
   "outputs": [
    {
     "data": {
      "image/png": "[encoded data removed]",
      "text/plain": [
       "<Figure size 576x216 with 2 Axes>"
      ]
     },
     "metadata": {
      "needs_background": "light"
     },
     "output_type": "display_data"
    }
   ],
   "source": [
    "# plot dataset 1 and dataset 2 and label if they are positive or negative\n",
    "positive = y_train == 1\n",
    "negative = y_train == 0\n",
    "\n",
    "fig, ax = plt.subplots(1,2, figsize = (8,3))\n",
    "\n",
    "# one variable plot\n",
    "ax[0].scatter(x_train[positive], y_train[positive], color = 'r', marker = 'x', s= 50, label = \"y=1\")\n",
    "ax[0].scatter(x_train[negative], y_train[negative], color = \"b\", marker = 'o', s=80, label = \"y=1\")\n",
    "ax[0].set_ylim(-0.08, 1.1)\n",
    "ax[0].set_ylabel('y', fontsize=12)\n",
    "ax[0].set_xlabel('x', fontsize=12)\n",
    "ax[0].set_title('one variable plot')\n",
    "\n",
    "# two-variable plot\n",
    "ax[1].scatter(X_train2[positive,0], X_train2[positive,1], color = 'r', marker = 'x', s= 50, label = \"y=1\")\n",
    "ax[1].scatter(X_train2[negative,0], X_train2[negative,1], color = \"b\", marker = 'o', s=80, label = \"y=1\")\n",
    "ax[1].axis([0, 4, 0, 4])\n",
    "ax[1].set_ylabel('$x_1$', fontsize=12)\n",
    "ax[1].set_xlabel('$x_2$', fontsize=12)\n",
    "ax[1].set_title('one variable plot')\n",
    "ax[1].legend()\n",
    "\n",
    "plt.tight_layout()"
   ]
  },
  {
   "cell_type": "markdown",
   "id": "84153e14",
   "metadata": {},
   "source": [
    "## logistic regression"
   ]
  },
  {
   "cell_type": "markdown",
   "id": "9778accf",
   "metadata": {},
   "source": [
    "### Formula for Sigmoid function\n",
    "\n",
    "The formula for a sigmoid function is as follows -  \n",
    "\n",
    "$g(z) = \\frac{1}{1+e^{-z}}\\tag{1}$\n",
    "\n",
    "In the case of logistic regression, z (the input to the sigmoid function), is the output of a linear regression model. \n",
    "- In the case of a single example, $z$ is scalar.\n",
    "- in the case of multiple examples, $z$ may be a vector consisting of $m$ values, one for each example. \n",
    "- The implementation of the sigmoid function should cover both of these potential input formats."
   ]
  },
  {
   "cell_type": "markdown",
   "id": "d0411120",
   "metadata": {},
   "source": [
    "`z = np.dot(w, x) + b`"
   ]
  },
  {
   "cell_type": "code",
   "execution_count": 6,
   "id": "ab734cf1",
   "metadata": {},
   "outputs": [],
   "source": [
    "def sigmoid(z):\n",
    "    \"\"\"\n",
    "    Compute the sigmoid function of z\n",
    "    \n",
    "    Args:\n",
    "    z (ndarray): A scalar array of any size\n",
    "    \n",
    "    return:\n",
    "    g (ndarray): sigmoid(z), same shape as z\n",
    "    \"\"\"\n",
    "    \n",
    "    g = 1/(1+np.exp(-z))\n",
    "    \n",
    "    return g"
   ]
  },
  {
   "cell_type": "code",
   "execution_count": 7,
   "id": "a712c3eb",
   "metadata": {},
   "outputs": [
    {
     "name": "stdout",
     "output_type": "stream",
     "text": [
      "Input (z), Output (sigmoid(z))\n",
      "[[-1.00000000e+01  4.53978687e-05]\n",
      " [-9.00000000e+00  1.23394576e-04]\n",
      " [-8.00000000e+00  3.35350130e-04]\n",
      " [-7.00000000e+00  9.11051194e-04]\n",
      " [-6.00000000e+00  2.47262316e-03]\n",
      " [-5.00000000e+00  6.69285092e-03]\n",
      " [-4.00000000e+00  1.79862100e-02]\n",
      " [-3.00000000e+00  4.74258732e-02]\n",
      " [-2.00000000e+00  1.19202922e-01]\n",
      " [-1.00000000e+00  2.68941421e-01]\n",
      " [ 0.00000000e+00  5.00000000e-01]\n",
      " [ 1.00000000e+00  7.31058579e-01]\n",
      " [ 2.00000000e+00  8.80797078e-01]\n",
      " [ 3.00000000e+00  9.52574127e-01]\n",
      " [ 4.00000000e+00  9.82013790e-01]\n",
      " [ 5.00000000e+00  9.93307149e-01]\n",
      " [ 6.00000000e+00  9.97527377e-01]\n",
      " [ 7.00000000e+00  9.99088949e-01]\n",
      " [ 8.00000000e+00  9.99664650e-01]\n",
      " [ 9.00000000e+00  9.99876605e-01]]\n"
     ]
    }
   ],
   "source": [
    "# test sigmoid function\n",
    "z_tmp = np.arange(-10,10)\n",
    "y = sigmoid(z_tmp)\n",
    "\n",
    "# stack z_tmp and y together for comparison\n",
    "print(\"Input (z), Output (sigmoid(z))\")\n",
    "print(np.c_[z_tmp, y])"
   ]
  },
  {
   "cell_type": "code",
   "execution_count": 8,
   "id": "59bcdaeb",
   "metadata": {
    "code_folding": []
   },
   "outputs": [],
   "source": [
    "# Draws a threshold at 0.5\n",
    "# code from Andrew Ng's machine learning specialization course\n",
    "dlc = dict(dlblue = '#0096ff', dlorange = '#FF9300', dldarkred='#C00000', dlmagenta='#FF40FF', dlpurple='#7030A0')\n",
    "dlblue = '#0096ff'; dlorange = '#FF9300'; dldarkred='#C00000'; dlmagenta='#FF40FF'; dlpurple='#7030A0'\n",
    "dlcolors = [dlblue, dlorange, dldarkred, dlmagenta, dlpurple]\n",
    "plt.style.use('./deeplearning.mplstyle')\n",
    "from matplotlib.patches import FancyArrowPatch\n",
    "\n",
    "def draw_vthresh(ax,x):\n",
    "    \"\"\" draws a threshold \"\"\"\n",
    "    ylim = ax.get_ylim()\n",
    "    xlim = ax.get_xlim()\n",
    "    ax.fill_between([xlim[0], x], [ylim[1], ylim[1]], alpha=0.2, color=dlblue)\n",
    "    ax.fill_between([x, xlim[1]], [ylim[1], ylim[1]], alpha=0.2, color=dldarkred)\n",
    "    ax.annotate(\"z >= 0\", xy= [x,0.5], xycoords='data',\n",
    "                xytext=[30,5],textcoords='offset points')\n",
    "    d = FancyArrowPatch(\n",
    "        posA=(x, 0.5), posB=(x+3, 0.5), color=dldarkred,\n",
    "        arrowstyle='simple, head_width=5, head_length=10, tail_width=0.0',\n",
    "    )\n",
    "    ax.add_artist(d)\n",
    "    ax.annotate(\"z < 0\", xy= [x,0.5], xycoords='data',\n",
    "                 xytext=[-50,5],textcoords='offset points', ha='left')\n",
    "    f = FancyArrowPatch(\n",
    "        posA=(x, 0.5), posB=(x-3, 0.5), color=dlblue,\n",
    "        arrowstyle='simple, head_width=5, head_length=10, tail_width=0.0',\n",
    "    )\n",
    "    ax.add_artist(f)\n"
   ]
  },
  {
   "cell_type": "code",
   "execution_count": 9,
   "id": "4506084b",
   "metadata": {},
   "outputs": [
    {
     "data": {
      "image/png": "[encoded data removed]",
      "text/plain": [
       "<Figure size 360x216 with 1 Axes>"
      ]
     },
     "metadata": {},
     "output_type": "display_data"
    }
   ],
   "source": [
    "# plot sigmoid(z) against z\n",
    "\n",
    "fig,ax = plt.subplots(1,1, figsize=(5,3))\n",
    "ax.plot(z_tmp, y, c=\"blue\")\n",
    "\n",
    "ax.set_title(\"Sigmoid function\")\n",
    "ax.set_ylabel('sigmoid(z)')\n",
    "ax.set_xlabel('z')\n",
    "\n",
    "# draw threshold\n",
    "draw_vthresh(ax,0)"
   ]
  },
  {
   "cell_type": "markdown",
   "id": "5ded4847",
   "metadata": {},
   "source": [
    "sigmoid function approaches 0 if z is large negative, <br> \n",
    "sigmoid function approaches 1 if z is large positive."
   ]
  },
  {
   "cell_type": "markdown",
   "id": "337976fa",
   "metadata": {},
   "source": [
    "### plotting decision boundary\n",
    "\n",
    "Knowing that $f(x) = g(z)$, <br>\n",
    "\n",
    "if  $z >= 0$, y is predicted to be positive, <br>\n",
    "if $z <= 0$, y is predicted to be negative,"
   ]
  },
  {
   "cell_type": "code",
   "execution_count": 10,
   "id": "ed7986ce",
   "metadata": {},
   "outputs": [
    {
     "data": {
      "image/png": "[encoded data removed]",
      "text/plain": [
       "<Figure size 360x288 with 1 Axes>"
      ]
     },
     "metadata": {},
     "output_type": "display_data"
    }
   ],
   "source": [
    "# example with dataset2- let z = -3 + x0+x1 = 0\n",
    "x0 = np.arange(-1,5)\n",
    "\n",
    "x1 = 3 - x0\n",
    "fig,ax = plt.subplots(1,1,figsize=(5,4))\n",
    "# Plot the decision boundary\n",
    "ax.plot(x0,x1, c=\"b\")\n",
    "ax.axis([0, 4, 0, 3.5])\n",
    "\n",
    "# Fill the region below the line\n",
    "ax.fill_between(x0,x1, alpha=0.2)\n",
    "\n",
    "# Plot the original data\n",
    "ax.scatter(X_train2[positive,0], X_train2[positive,1], color = 'r', marker = 'x', s= 50, label = \"y=1\")\n",
    "ax.scatter(X_train2[negative,0], X_train2[negative,1], color = dlc[\"dlblue\"], marker = 'o', s=80, label = \"y=1\")\n",
    "ax.set_ylabel(r'$x_1$')\n",
    "ax.set_xlabel(r'$x_0$')\n",
    "\n",
    "plt.show()"
   ]
  },
  {
   "cell_type": "markdown",
   "id": "23b7013e",
   "metadata": {},
   "source": [
    "### logistic loss and cost function"
   ]
  },
  {
   "cell_type": "markdown",
   "id": "ef8bfbdd",
   "metadata": {},
   "source": [
    " In short, <br>\n",
    ">**Loss** is a measure of the difference of a single example to its target value while the  \n",
    "**Cost** is a measure of the losses over the training set\n",
    "\n",
    "**Loss function formula**<br>\n",
    " $$loss(f_{\\mathbf{w},b}(\\mathbf{x}^{(i)}), y^{(i)}) = (-y^{(i)} \\log\\left(f_{\\mathbf{w},b}\\left( \\mathbf{x}^{(i)} \\right) \\right) - \\left( 1 - y^{(i)}\\right) \\log \\left( 1 - f_{\\mathbf{w},b}\\left( \\mathbf{x}^{(i)} \\right) \\right)$$\n",
    " \n",
    "**Cost function formula**<br>\n",
    "$Cost function =\\frac{1}{m}\\sum\\limits_{i = 0}^{m-1} loss$"
   ]
  },
  {
   "cell_type": "code",
   "execution_count": 11,
   "id": "28961fe4",
   "metadata": {},
   "outputs": [],
   "source": [
    "def compute_cost_logistic(X,y,w,b):\n",
    "    \"\"\"\n",
    "    Computes cost\n",
    "\n",
    "    Args:\n",
    "      X (ndarray (m,n)): Data, m examples with n features\n",
    "      y (ndarray (m,)) : target values\n",
    "      w (ndarray (n,)) : model parameters  \n",
    "      b (scalar)       : model parameter\n",
    "      \n",
    "    Returns:\n",
    "      cost (scalar): cost\n",
    "    \"\"\"\n",
    "    m= X.shape[0]\n",
    "    cost = 0\n",
    "    \n",
    "    for i in range(m):\n",
    "        z_i = np.dot(w,X[i]) + b\n",
    "        f_wb = sigmoid(z_i)\n",
    "        cost += -y[i]*np.log(f_wb) - (1-y[i])*np.log(1-f_wb)\n",
    "        \n",
    "    cost = cost/m\n",
    "    return cost"
   ]
  },
  {
   "cell_type": "code",
   "execution_count": 12,
   "id": "48d3cff7",
   "metadata": {},
   "outputs": [
    {
     "data": {
      "text/plain": [
       "0.6931471805599453"
      ]
     },
     "execution_count": 12,
     "metadata": {},
     "output_type": "execute_result"
    }
   ],
   "source": [
    "# test compute cost function\n",
    "w_tmp = np.zeros_like(x_train[0])\n",
    "b_tmp = 0\n",
    "\n",
    "compute_cost_logistic(x_train.reshape(-1,), y_train, w_tmp, b_tmp)"
   ]
  },
  {
   "cell_type": "markdown",
   "id": "2a15094a",
   "metadata": {},
   "source": [
    "### gradient descent\n",
    "\n",
    "step 1: compute gradient <br>\n",
    "Where each iteration performs simultaneous updates on $w_j$ for all $j$, where\n",
    "$$\\begin{align*}\n",
    "\\frac{\\partial J(\\mathbf{w},b)}{\\partial w_j}  &= \\frac{1}{m} \\sum\\limits_{i = 0}^{m-1} (f_{\\mathbf{w},b}(\\mathbf{x}^{(i)}) - y^{(i)})x_{j}^{(i)} \\tag{2} \\\\\n",
    "\\frac{\\partial J(\\mathbf{w},b)}{\\partial b}  &= \\frac{1}{m} \\sum\\limits_{i = 0}^{m-1} (f_{\\mathbf{w},b}(\\mathbf{x}^{(i)}) - y^{(i)}) \\tag{3} \n",
    "\\end{align*}$$\n",
    "\n",
    "step 2: compute gradient descent\n",
    "$$\\begin{align*}\n",
    "&\\text{repeat until convergence:} \\; \\lbrace \\\\\n",
    "&  \\; \\; \\;w_j = w_j -  \\alpha \\frac{\\partial J(\\mathbf{w},b)}{\\partial w_j} \\tag{1}  \\; & \\text{for j := 0..n-1} \\\\ \n",
    "&  \\; \\; \\;  \\; \\;b = b -  \\alpha \\frac{\\partial J(\\mathbf{w},b)}{\\partial b} \\\\\n",
    "&\\rbrace\n",
    "\\end{align*}$$"
   ]
  },
  {
   "cell_type": "code",
   "execution_count": 13,
   "id": "f3659235",
   "metadata": {},
   "outputs": [],
   "source": [
    "def compute_gradient(X,y,w,b):\n",
    "    \"\"\"\n",
    "    Computes the gradient for linear regression \n",
    " \n",
    "    Args:\n",
    "      X (ndarray (m,n): Data, m examples with n features\n",
    "      y (ndarray (m,)): target values\n",
    "      w (ndarray (n,)): model parameters  \n",
    "      b (scalar)      : model parameter\n",
    "    return\n",
    "      dj_dw (ndarray (n,)): The gradient of the cost w.r.t. the parameters w. \n",
    "      dj_db (scalar)      : The gradient of the cost w.r.t. the parameter b. \n",
    "    \"\"\"\n",
    "    m,n = X.shape\n",
    "    dj_db = 0\n",
    "    dj_dw = np.zeros(n,) \n",
    "    \n",
    "    for i in range(m):\n",
    "        f_wb = sigmoid(np.dot(X[i],w) + b) \n",
    "        err = f_wb - y[i]\n",
    "        dj_db += err\n",
    "        \n",
    "        for j in range(n):\n",
    "            dj_dw[j] = dj_dw[j] + err * X[i,j] \n",
    "    \n",
    "    dj_db = dj_db / m\n",
    "    dj_dw = dj_dw /m\n",
    "    \n",
    "    return dj_db, dj_dw"
   ]
  },
  {
   "cell_type": "code",
   "execution_count": 14,
   "id": "693602c4",
   "metadata": {},
   "outputs": [
    {
     "name": "stdout",
     "output_type": "stream",
     "text": [
      "dj_db=0.39332624947666445\n",
      "dj_dw=[0.47263973]\n"
     ]
    }
   ],
   "source": [
    "# test compute_gradient function\n",
    "w_tmp = np.array([2])\n",
    "b_tmp = 0\n",
    "dj_db, dj_dw = compute_gradient(x_train.reshape([-1,1]), y_train, w_tmp, b_tmp)\n",
    "print(f\"dj_db={dj_db}\\ndj_dw={dj_dw}\")"
   ]
  },
  {
   "cell_type": "code",
   "execution_count": 15,
   "id": "1011d2e1",
   "metadata": {},
   "outputs": [],
   "source": [
    "import math\n",
    "def gradient_descent(X,y,w_in, b_in, alpha, num_iter):\n",
    "    \"\"\"\n",
    "    Performs batch gradient descent\n",
    "    \n",
    "    Args:\n",
    "      X (ndarray (m,n)   : Data, m examples with n features\n",
    "      y (ndarray (m,))   : target values\n",
    "      w_in (ndarray (n,)): Initial values of model parameters  \n",
    "      b_in (scalar)      : Initial values of model parameter\n",
    "      alpha (float)      : Learning rate\n",
    "      num_iters (scalar) : number of iterations to run gradient descent\n",
    "      \n",
    "    Returns:\n",
    "      w (ndarray (n,))   : Updated values of parameters\n",
    "      b (scalar)         : Updated value of parameter \n",
    "    \"\"\"    \n",
    "    w = w_in\n",
    "    b = b_in\n",
    "    J_history = []\n",
    "    \n",
    "    for i in range(num_iter):\n",
    "        dj_db, dj_dw = compute_gradient(X,y,w,b)\n",
    "        w = w - alpha * dj_dw\n",
    "        b = b - alpha * dj_db\n",
    "        \n",
    "        if i< 10000:\n",
    "            J_history.append(compute_cost_logistic(X,y,w,b))\n",
    "            \n",
    "        if i % math.ceil(num_iter/10) == 0:\n",
    "            print(f\"Iteration {i:4d}: Cost {J_history[-1]}   \")\n",
    "            \n",
    "    return w, b, J_history"
   ]
  },
  {
   "cell_type": "code",
   "execution_count": 17,
   "id": "246a37b2",
   "metadata": {},
   "outputs": [
    {
     "name": "stdout",
     "output_type": "stream",
     "text": [
      "Iteration    0: Cost [0.64331581]   \n",
      "Iteration 2000: Cost [0.07793459]   \n",
      "Iteration 4000: Cost [0.0506706]   \n",
      "Iteration 6000: Cost [0.03799054]   \n",
      "Iteration 8000: Cost [0.03043365]   \n",
      "Iteration 10000: Cost [0.02538227]   \n",
      "Iteration 12000: Cost [0.02538227]   \n",
      "Iteration 14000: Cost [0.02538227]   \n",
      "Iteration 16000: Cost [0.02538227]   \n",
      "Iteration 18000: Cost [0.02538227]   \n",
      "\n",
      "updated parameters: w:[6.36199692], b:[-15.72286835]\n"
     ]
    }
   ],
   "source": [
    "w_tmp  = np.zeros_like(x_train[0])\n",
    "b_tmp  = 0.\n",
    "alpha = 0.1\n",
    "iters = 20000\n",
    "\n",
    "w_out, b_out, _ = gradient_descent(x_train.reshape(-1,1), y_train, w_tmp, b_tmp, alpha, iters) \n",
    "print(f\"\\nupdated parameters: w:{w_out}, b:{b_out}\")"
   ]
  },
  {
   "cell_type": "markdown",
   "id": "ab478601",
   "metadata": {},
   "source": [
    "## logistic regression with scikit learn"
   ]
  },
  {
   "cell_type": "code",
   "execution_count": 18,
   "id": "6ea89129",
   "metadata": {},
   "outputs": [
    {
     "data": {
      "text/html": [
       "<style>#sk-container-id-1 {color: black;background-color: white;}#sk-container-id-1 pre{padding: 0;}#sk-container-id-1 div.sk-toggleable {background-color: white;}#sk-container-id-1 label.sk-toggleable__label {cursor: pointer;display: block;width: 100%;margin-bottom: 0;padding: 0.3em;box-sizing: border-box;text-align: center;}#sk-container-id-1 label.sk-toggleable__label-arrow:before {content: \"▸\";float: left;margin-right: 0.25em;color: #696969;}#sk-container-id-1 label.sk-toggleable__label-arrow:hover:before {color: black;}#sk-container-id-1 div.sk-estimator:hover label.sk-toggleable__label-arrow:before {color: black;}#sk-container-id-1 div.sk-toggleable__content {max-height: 0;max-width: 0;overflow: hidden;text-align: left;background-color: #f0f8ff;}#sk-container-id-1 div.sk-toggleable__content pre {margin: 0.2em;color: black;border-radius: 0.25em;background-color: #f0f8ff;}#sk-container-id-1 input.sk-toggleable__control:checked~div.sk-toggleable__content {max-height: 200px;max-width: 100%;overflow: auto;}#sk-container-id-1 input.sk-toggleable__control:checked~label.sk-toggleable__label-arrow:before {content: \"▾\";}#sk-container-id-1 div.sk-estimator input.sk-toggleable__control:checked~label.sk-toggleable__label {background-color: #d4ebff;}#sk-container-id-1 div.sk-label input.sk-toggleable__control:checked~label.sk-toggleable__label {background-color: #d4ebff;}#sk-container-id-1 input.sk-hidden--visually {border: 0;clip: rect(1px 1px 1px 1px);clip: rect(1px, 1px, 1px, 1px);height: 1px;margin: -1px;overflow: hidden;padding: 0;position: absolute;width: 1px;}#sk-container-id-1 div.sk-estimator {font-family: monospace;background-color: #f0f8ff;border: 1px dotted black;border-radius: 0.25em;box-sizing: border-box;margin-bottom: 0.5em;}#sk-container-id-1 div.sk-estimator:hover {background-color: #d4ebff;}#sk-container-id-1 div.sk-parallel-item::after {content: \"\";width: 100%;border-bottom: 1px solid gray;flex-grow: 1;}#sk-container-id-1 div.sk-label:hover label.sk-toggleable__label {background-color: #d4ebff;}#sk-container-id-1 div.sk-serial::before {content: \"\";position: absolute;border-left: 1px solid gray;box-sizing: border-box;top: 0;bottom: 0;left: 50%;z-index: 0;}#sk-container-id-1 div.sk-serial {display: flex;flex-direction: column;align-items: center;background-color: white;padding-right: 0.2em;padding-left: 0.2em;position: relative;}#sk-container-id-1 div.sk-item {position: relative;z-index: 1;}#sk-container-id-1 div.sk-parallel {display: flex;align-items: stretch;justify-content: center;background-color: white;position: relative;}#sk-container-id-1 div.sk-item::before, #sk-container-id-1 div.sk-parallel-item::before {content: \"\";position: absolute;border-left: 1px solid gray;box-sizing: border-box;top: 0;bottom: 0;left: 50%;z-index: -1;}#sk-container-id-1 div.sk-parallel-item {display: flex;flex-direction: column;z-index: 1;position: relative;background-color: white;}#sk-container-id-1 div.sk-parallel-item:first-child::after {align-self: flex-end;width: 50%;}#sk-container-id-1 div.sk-parallel-item:last-child::after {align-self: flex-start;width: 50%;}#sk-container-id-1 div.sk-parallel-item:only-child::after {width: 0;}#sk-container-id-1 div.sk-dashed-wrapped {border: 1px dashed gray;margin: 0 0.4em 0.5em 0.4em;box-sizing: border-box;padding-bottom: 0.4em;background-color: white;}#sk-container-id-1 div.sk-label label {font-family: monospace;font-weight: bold;display: inline-block;line-height: 1.2em;}#sk-container-id-1 div.sk-label-container {text-align: center;}#sk-container-id-1 div.sk-container {/* jupyter's `normalize.less` sets `[hidden] { display: none; }` but bootstrap.min.css set `[hidden] { display: none !important; }` so we also need the `!important` here to be able to override the default hidden behavior on the sphinx rendered scikit-learn.org. See: https://github.com/scikit-learn/scikit-learn/issues/21755 */display: inline-block !important;position: relative;}#sk-container-id-1 div.sk-text-repr-fallback {display: none;}</style><div id=\"sk-container-id-1\" class=\"sk-top-container\"><div class=\"sk-text-repr-fallback\"><pre>LogisticRegression()</pre><b>In a Jupyter environment, please rerun this cell to show the HTML representation or trust the notebook. <br />On GitHub, the HTML representation is unable to render, please try loading this page with nbviewer.org.</b></div><div class=\"sk-container\" hidden><div class=\"sk-item\"><div class=\"sk-estimator sk-toggleable\"><input class=\"sk-toggleable__control sk-hidden--visually\" id=\"sk-estimator-id-1\" type=\"checkbox\" checked><label for=\"sk-estimator-id-1\" class=\"sk-toggleable__label sk-toggleable__label-arrow\">LogisticRegression</label><div class=\"sk-toggleable__content\"><pre>LogisticRegression()</pre></div></div></div></div></div>"
      ],
      "text/plain": [
       "LogisticRegression()"
      ]
     },
     "execution_count": 18,
     "metadata": {},
     "output_type": "execute_result"
    }
   ],
   "source": [
    "from sklearn.linear_model import LogisticRegression\n",
    "\n",
    "lr_model = LogisticRegression()\n",
    "lr_model.fit(X_train2, y_train2)"
   ]
  },
  {
   "cell_type": "code",
   "execution_count": 19,
   "id": "56622d72",
   "metadata": {},
   "outputs": [
    {
     "name": "stdout",
     "output_type": "stream",
     "text": [
      "w = [[0.90411349 0.73587543]], b = [-2.33371631]\n"
     ]
    }
   ],
   "source": [
    "# find out coef_ and intercept_ (w,b)\n",
    "b = lr_model.intercept_\n",
    "w = lr_model.coef_\n",
    "print(f\"w = {w}, b = {b}\")"
   ]
  },
  {
   "cell_type": "code",
   "execution_count": 20,
   "id": "5cd6bec1",
   "metadata": {},
   "outputs": [
    {
     "name": "stdout",
     "output_type": "stream",
     "text": [
      "Prediction on training set: [1 1]\n"
     ]
    }
   ],
   "source": [
    "# make predictions\n",
    "x_test = np.array([[1,2],[3,4]])\n",
    "\n",
    "y_pred = lr_model.predict(x_test)\n",
    "print(\"Prediction on training set:\", y_pred)"
   ]
  },
  {
   "cell_type": "code",
   "execution_count": 21,
   "id": "dee630ca",
   "metadata": {},
   "outputs": [
    {
     "name": "stdout",
     "output_type": "stream",
     "text": [
      "Accuracy on training set: 1.0\n"
     ]
    }
   ],
   "source": [
    "print(\"Accuracy on training set:\", lr_model.score(X_train2, y_train2))"
   ]
  }
 ],
 "metadata": {
  "kernelspec": {
   "display_name": "Python 3",
   "language": "python",
   "name": "python3"
  },
  "language_info": {
   "codemirror_mode": {
    "name": "ipython",
    "version": 3
   },
   "file_extension": ".py",
   "mimetype": "text/x-python",
   "name": "python",
   "nbconvert_exporter": "python",
   "pygments_lexer": "ipython3",
   "version": "3.8.8"
  },
  "toc": {
   "base_numbering": 1,
   "nav_menu": {},
   "number_sections": true,
   "sideBar": true,
   "skip_h1_title": false,
   "title_cell": "Table of Contents",
   "title_sidebar": "Contents",
   "toc_cell": true,
   "toc_position": {},
   "toc_section_display": true,
   "toc_window_display": true
  }
 },
 "nbformat": 4,
 "nbformat_minor": 5
}
